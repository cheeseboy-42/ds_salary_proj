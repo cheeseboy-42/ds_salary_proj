{
 "cells": [
  {
   "cell_type": "markdown",
   "metadata": {},
   "source": [
    " ## Prepare Data for Model Input"
   ]
  },
  {
   "cell_type": "code",
   "execution_count": 1,
   "metadata": {},
   "outputs": [],
   "source": [
    "import pandas as pd\n",
    "import matplotlib.pyplot as plt\n",
    "import numpy as np"
   ]
  },
  {
   "cell_type": "code",
   "execution_count": 21,
   "metadata": {},
   "outputs": [],
   "source": [
    "from sklearn.model_selection import cross_val_score, train_test_split, GridSearchCV, RandomizedSearchCV\n",
    "from sklearn.metrics import mean_absolute_error\n",
    "\n",
    "from sklearn.linear_model import LinearRegression, Lasso, ElasticNet\n",
    "from sklearn.ensemble import RandomForestRegressor,  GradientBoostingRegressor\n",
    "from sklearn.kernel_ridge import KernelRidge\n",
    "from sklearn.svm import SVR\n",
    "\n",
    "import statsmodels.api as sm\n",
    "import xgboost as xgb\n",
    "import lightgbm as lgb"
   ]
  },
  {
   "cell_type": "code",
   "execution_count": 3,
   "metadata": {},
   "outputs": [],
   "source": [
    "df = pd.read_csv('salary_post_eda.csv')"
   ]
  },
  {
   "cell_type": "code",
   "execution_count": 4,
   "metadata": {},
   "outputs": [
    {
     "data": {
      "text/plain": [
       "Index(['Job Title', 'Salary Estimate', 'Job Description', 'Rating',\n",
       "       'Company Name', 'Location', 'Headquarters', 'Size', 'Founded',\n",
       "       'Type of ownership', 'Industry', 'Sector', 'Revenue', 'Competitors',\n",
       "       'hourly', 'employer_provided', 'min_salary', 'max_salary', 'avg_salary',\n",
       "       'company_txt', 'job_state', 'same_state', 'age', 'python_yn', 'R_yn',\n",
       "       'sql_yn', 'tableau_yn', 'spark_yn', 'aws_yn', 'excel_yn', 'phd_yn',\n",
       "       'masters_yn', 'bachelors_yn', 'job_simp', 'seniority', 'desc_len',\n",
       "       'num_comp'],\n",
       "      dtype='object')"
      ]
     },
     "execution_count": 4,
     "metadata": {},
     "output_type": "execute_result"
    }
   ],
   "source": [
    "df.columns"
   ]
  },
  {
   "cell_type": "code",
   "execution_count": 5,
   "metadata": {},
   "outputs": [],
   "source": [
    "# choose relevant columns\n",
    "df_model = df[['avg_salary','Rating','Size','Type of ownership','Industry','Sector','Revenue','num_comp','hourly',\n",
    "               'employer_provided','job_state','same_state','age','desc_len',\n",
    "               'python_yn', 'R_yn','sql_yn', 'tableau_yn', 'spark_yn', 'aws_yn', 'excel_yn', \n",
    "               'phd_yn','masters_yn', 'bachelors_yn', 'job_simp', 'seniority']]"
   ]
  },
  {
   "cell_type": "code",
   "execution_count": 6,
   "metadata": {},
   "outputs": [],
   "source": [
    "# get dummy data\n",
    "df_dum = pd.get_dummies(df_model)"
   ]
  },
  {
   "cell_type": "code",
   "execution_count": 7,
   "metadata": {},
   "outputs": [],
   "source": [
    "# train test split\n",
    "X = df_dum.drop('avg_salary', axis = 1)\n",
    "y = df_dum.avg_salary.values\n",
    "\n",
    "X_train, X_test, y_train, y_test = train_test_split(X, y, test_size = 0.2, random_state = 88)"
   ]
  },
  {
   "cell_type": "code",
   "execution_count": 8,
   "metadata": {},
   "outputs": [
    {
     "name": "stderr",
     "output_type": "stream",
     "text": [
      "C:\\Users\\jamie\\Anaconda3\\lib\\site-packages\\numpy\\core\\fromnumeric.py:2389: FutureWarning: Method .ptp is deprecated and will be removed in a future version. Use numpy.ptp instead.\n",
      "  return ptp(axis=axis, out=out, **kwargs)\n"
     ]
    },
    {
     "data": {
      "text/html": [
       "<table class=\"simpletable\">\n",
       "<caption>OLS Regression Results</caption>\n",
       "<tr>\n",
       "  <th>Dep. Variable:</th>            <td>y</td>        <th>  R-squared:         </th> <td>   0.711</td>\n",
       "</tr>\n",
       "<tr>\n",
       "  <th>Model:</th>                   <td>OLS</td>       <th>  Adj. R-squared:    </th> <td>   0.639</td>\n",
       "</tr>\n",
       "<tr>\n",
       "  <th>Method:</th>             <td>Least Squares</td>  <th>  F-statistic:       </th> <td>   9.856</td>\n",
       "</tr>\n",
       "<tr>\n",
       "  <th>Date:</th>             <td>Tue, 25 Jan 2022</td> <th>  Prob (F-statistic):</th> <td>7.48e-93</td>\n",
       "</tr>\n",
       "<tr>\n",
       "  <th>Time:</th>                 <td>10:40:55</td>     <th>  Log-Likelihood:    </th> <td> -3307.5</td>\n",
       "</tr>\n",
       "<tr>\n",
       "  <th>No. Observations:</th>      <td>   742</td>      <th>  AIC:               </th> <td>   6913.</td>\n",
       "</tr>\n",
       "<tr>\n",
       "  <th>Df Residuals:</th>          <td>   593</td>      <th>  BIC:               </th> <td>   7600.</td>\n",
       "</tr>\n",
       "<tr>\n",
       "  <th>Df Model:</th>              <td>   148</td>      <th>                     </th>     <td> </td>   \n",
       "</tr>\n",
       "<tr>\n",
       "  <th>Covariance Type:</th>      <td>nonrobust</td>    <th>                     </th>     <td> </td>   \n",
       "</tr>\n",
       "</table>\n",
       "<table class=\"simpletable\">\n",
       "<tr>\n",
       "                          <td></td>                             <th>coef</th>     <th>std err</th>      <th>t</th>      <th>P>|t|</th>  <th>[0.025</th>    <th>0.975]</th>  \n",
       "</tr>\n",
       "<tr>\n",
       "  <th>const</th>                                             <td>   43.2528</td> <td>    7.211</td> <td>    5.998</td> <td> 0.000</td> <td>   29.091</td> <td>   57.415</td>\n",
       "</tr>\n",
       "<tr>\n",
       "  <th>Rating</th>                                            <td>    3.4606</td> <td>    1.959</td> <td>    1.766</td> <td> 0.078</td> <td>   -0.388</td> <td>    7.309</td>\n",
       "</tr>\n",
       "<tr>\n",
       "  <th>num_comp</th>                                          <td>    2.1108</td> <td>    0.871</td> <td>    2.422</td> <td> 0.016</td> <td>    0.399</td> <td>    3.822</td>\n",
       "</tr>\n",
       "<tr>\n",
       "  <th>hourly</th>                                            <td>  -37.3070</td> <td>    9.372</td> <td>   -3.981</td> <td> 0.000</td> <td>  -55.714</td> <td>  -18.900</td>\n",
       "</tr>\n",
       "<tr>\n",
       "  <th>employer_provided</th>                                 <td>   31.9315</td> <td>   11.617</td> <td>    2.749</td> <td> 0.006</td> <td>    9.115</td> <td>   54.748</td>\n",
       "</tr>\n",
       "<tr>\n",
       "  <th>same_state</th>                                        <td>    2.5599</td> <td>    2.630</td> <td>    0.973</td> <td> 0.331</td> <td>   -2.606</td> <td>    7.726</td>\n",
       "</tr>\n",
       "<tr>\n",
       "  <th>age</th>                                               <td>    0.0291</td> <td>    0.030</td> <td>    0.961</td> <td> 0.337</td> <td>   -0.030</td> <td>    0.089</td>\n",
       "</tr>\n",
       "<tr>\n",
       "  <th>desc_len</th>                                          <td>   -0.0003</td> <td>    0.001</td> <td>   -0.322</td> <td> 0.747</td> <td>   -0.002</td> <td>    0.001</td>\n",
       "</tr>\n",
       "<tr>\n",
       "  <th>python_yn</th>                                         <td>    9.3532</td> <td>    2.601</td> <td>    3.595</td> <td> 0.000</td> <td>    4.244</td> <td>   14.462</td>\n",
       "</tr>\n",
       "<tr>\n",
       "  <th>R_yn</th>                                              <td>   18.0532</td> <td>   29.110</td> <td>    0.620</td> <td> 0.535</td> <td>  -39.118</td> <td>   75.225</td>\n",
       "</tr>\n",
       "<tr>\n",
       "  <th>sql_yn</th>                                            <td>   -2.0112</td> <td>    2.710</td> <td>   -0.742</td> <td> 0.458</td> <td>   -7.333</td> <td>    3.311</td>\n",
       "</tr>\n",
       "<tr>\n",
       "  <th>tableau_yn</th>                                        <td>   -5.8602</td> <td>    3.110</td> <td>   -1.884</td> <td> 0.060</td> <td>  -11.969</td> <td>    0.248</td>\n",
       "</tr>\n",
       "<tr>\n",
       "  <th>spark_yn</th>                                          <td>   -0.8827</td> <td>    2.997</td> <td>   -0.295</td> <td> 0.768</td> <td>   -6.768</td> <td>    5.003</td>\n",
       "</tr>\n",
       "<tr>\n",
       "  <th>aws_yn</th>                                            <td>    1.2893</td> <td>    2.759</td> <td>    0.467</td> <td> 0.640</td> <td>   -4.129</td> <td>    6.708</td>\n",
       "</tr>\n",
       "<tr>\n",
       "  <th>excel_yn</th>                                          <td>    0.1936</td> <td>    2.286</td> <td>    0.085</td> <td> 0.933</td> <td>   -4.296</td> <td>    4.683</td>\n",
       "</tr>\n",
       "<tr>\n",
       "  <th>phd_yn</th>                                            <td>    1.9851</td> <td>    2.854</td> <td>    0.696</td> <td> 0.487</td> <td>   -3.620</td> <td>    7.590</td>\n",
       "</tr>\n",
       "<tr>\n",
       "  <th>masters_yn</th>                                        <td>    0.3612</td> <td>    5.148</td> <td>    0.070</td> <td> 0.944</td> <td>   -9.750</td> <td>   10.472</td>\n",
       "</tr>\n",
       "<tr>\n",
       "  <th>bachelors_yn</th>                                      <td>    1.4122</td> <td>    2.546</td> <td>    0.555</td> <td> 0.579</td> <td>   -3.588</td> <td>    6.412</td>\n",
       "</tr>\n",
       "<tr>\n",
       "  <th>Size_-1</th>                                           <td>   12.6199</td> <td>    8.644</td> <td>    1.460</td> <td> 0.145</td> <td>   -4.357</td> <td>   29.597</td>\n",
       "</tr>\n",
       "<tr>\n",
       "  <th>Size_1 to 50 employees</th>                            <td>    1.1936</td> <td>    6.546</td> <td>    0.182</td> <td> 0.855</td> <td>  -11.663</td> <td>   14.050</td>\n",
       "</tr>\n",
       "<tr>\n",
       "  <th>Size_10000+ employees</th>                             <td>   -3.3593</td> <td>    5.812</td> <td>   -0.578</td> <td> 0.563</td> <td>  -14.773</td> <td>    8.054</td>\n",
       "</tr>\n",
       "<tr>\n",
       "  <th>Size_1001 to 5000 employees</th>                       <td>    7.1075</td> <td>    3.961</td> <td>    1.794</td> <td> 0.073</td> <td>   -0.672</td> <td>   14.887</td>\n",
       "</tr>\n",
       "<tr>\n",
       "  <th>Size_201 to 500 employees</th>                         <td>    3.0152</td> <td>    3.900</td> <td>    0.773</td> <td> 0.440</td> <td>   -4.644</td> <td>   10.674</td>\n",
       "</tr>\n",
       "<tr>\n",
       "  <th>Size_5001 to 10000 employees</th>                      <td>   -4.1693</td> <td>    5.454</td> <td>   -0.764</td> <td> 0.445</td> <td>  -14.881</td> <td>    6.543</td>\n",
       "</tr>\n",
       "<tr>\n",
       "  <th>Size_501 to 1000 employees</th>                        <td>    3.1303</td> <td>    4.084</td> <td>    0.766</td> <td> 0.444</td> <td>   -4.891</td> <td>   11.152</td>\n",
       "</tr>\n",
       "<tr>\n",
       "  <th>Size_51 to 200 employees</th>                          <td>    4.8098</td> <td>    4.438</td> <td>    1.084</td> <td> 0.279</td> <td>   -3.905</td> <td>   13.525</td>\n",
       "</tr>\n",
       "<tr>\n",
       "  <th>Size_Unknown</th>                                      <td>   18.9051</td> <td>   14.030</td> <td>    1.347</td> <td> 0.178</td> <td>   -8.650</td> <td>   46.460</td>\n",
       "</tr>\n",
       "<tr>\n",
       "  <th>Type of ownership_-1</th>                              <td>   12.6199</td> <td>    8.644</td> <td>    1.460</td> <td> 0.145</td> <td>   -4.357</td> <td>   29.597</td>\n",
       "</tr>\n",
       "<tr>\n",
       "  <th>Type of ownership_College / University</th>            <td>   -1.2022</td> <td>   18.063</td> <td>   -0.067</td> <td> 0.947</td> <td>  -36.677</td> <td>   34.273</td>\n",
       "</tr>\n",
       "<tr>\n",
       "  <th>Type of ownership_Company - Private</th>               <td>    8.7494</td> <td>    5.301</td> <td>    1.650</td> <td> 0.099</td> <td>   -1.662</td> <td>   19.161</td>\n",
       "</tr>\n",
       "<tr>\n",
       "  <th>Type of ownership_Company - Public</th>                <td>   13.7316</td> <td>    5.829</td> <td>    2.356</td> <td> 0.019</td> <td>    2.284</td> <td>   25.179</td>\n",
       "</tr>\n",
       "<tr>\n",
       "  <th>Type of ownership_Government</th>                      <td>  -11.5192</td> <td>   15.416</td> <td>   -0.747</td> <td> 0.455</td> <td>  -41.796</td> <td>   18.758</td>\n",
       "</tr>\n",
       "<tr>\n",
       "  <th>Type of ownership_Hospital</th>                        <td>   -6.7280</td> <td>   10.131</td> <td>   -0.664</td> <td> 0.507</td> <td>  -26.625</td> <td>   13.169</td>\n",
       "</tr>\n",
       "<tr>\n",
       "  <th>Type of ownership_Nonprofit Organization</th>          <td>   -7.1482</td> <td>    6.839</td> <td>   -1.045</td> <td> 0.296</td> <td>  -20.579</td> <td>    6.283</td>\n",
       "</tr>\n",
       "<tr>\n",
       "  <th>Type of ownership_Other Organization</th>              <td>   -3.8390</td> <td>   14.495</td> <td>   -0.265</td> <td> 0.791</td> <td>  -32.307</td> <td>   24.629</td>\n",
       "</tr>\n",
       "<tr>\n",
       "  <th>Type of ownership_School / School District</th>        <td>  -10.8502</td> <td>   24.205</td> <td>   -0.448</td> <td> 0.654</td> <td>  -58.388</td> <td>   36.688</td>\n",
       "</tr>\n",
       "<tr>\n",
       "  <th>Type of ownership_Subsidiary or Business Segment</th>  <td>   13.4152</td> <td>    6.960</td> <td>    1.927</td> <td> 0.054</td> <td>   -0.255</td> <td>   27.085</td>\n",
       "</tr>\n",
       "<tr>\n",
       "  <th>Type of ownership_Unknown</th>                         <td>   36.0235</td> <td>   28.629</td> <td>    1.258</td> <td> 0.209</td> <td>  -20.202</td> <td>   92.249</td>\n",
       "</tr>\n",
       "<tr>\n",
       "  <th>Industry_-1</th>                                       <td>    5.9119</td> <td>    7.954</td> <td>    0.743</td> <td> 0.458</td> <td>   -9.710</td> <td>   21.534</td>\n",
       "</tr>\n",
       "<tr>\n",
       "  <th>Industry_Accounting</th>                               <td>    1.6615</td> <td>   13.517</td> <td>    0.123</td> <td> 0.902</td> <td>  -24.886</td> <td>   28.209</td>\n",
       "</tr>\n",
       "<tr>\n",
       "  <th>Industry_Advertising & Marketing</th>                  <td>   14.4023</td> <td>    6.109</td> <td>    2.357</td> <td> 0.019</td> <td>    2.404</td> <td>   26.401</td>\n",
       "</tr>\n",
       "<tr>\n",
       "  <th>Industry_Aerospace & Defense</th>                      <td>    5.3864</td> <td>    3.144</td> <td>    1.713</td> <td> 0.087</td> <td>   -0.788</td> <td>   11.561</td>\n",
       "</tr>\n",
       "<tr>\n",
       "  <th>Industry_Architectural & Engineering Services</th>     <td>  -33.3282</td> <td>   16.024</td> <td>   -2.080</td> <td> 0.038</td> <td>  -64.799</td> <td>   -1.857</td>\n",
       "</tr>\n",
       "<tr>\n",
       "  <th>Industry_Auctions & Galleries</th>                     <td>    9.7240</td> <td>   22.965</td> <td>    0.423</td> <td> 0.672</td> <td>  -35.379</td> <td>   54.827</td>\n",
       "</tr>\n",
       "<tr>\n",
       "  <th>Industry_Banks & Credit Unions</th>                    <td>  -17.8676</td> <td>    8.063</td> <td>   -2.216</td> <td> 0.027</td> <td>  -33.704</td> <td>   -2.032</td>\n",
       "</tr>\n",
       "<tr>\n",
       "  <th>Industry_Beauty & Personal Accessories Stores</th>     <td>   14.8760</td> <td>   21.648</td> <td>    0.687</td> <td> 0.492</td> <td>  -27.640</td> <td>   57.392</td>\n",
       "</tr>\n",
       "<tr>\n",
       "  <th>Industry_Biotech & Pharmaceuticals</th>                <td>    5.7599</td> <td>    2.130</td> <td>    2.704</td> <td> 0.007</td> <td>    1.576</td> <td>    9.944</td>\n",
       "</tr>\n",
       "<tr>\n",
       "  <th>Industry_Brokerage Services</th>                       <td>   28.2016</td> <td>   15.538</td> <td>    1.815</td> <td> 0.070</td> <td>   -2.314</td> <td>   58.717</td>\n",
       "</tr>\n",
       "<tr>\n",
       "  <th>Industry_Colleges & Universities</th>                  <td>   12.4231</td> <td>   13.012</td> <td>    0.955</td> <td> 0.340</td> <td>  -13.132</td> <td>   37.978</td>\n",
       "</tr>\n",
       "<tr>\n",
       "  <th>Industry_Computer Hardware & Software</th>             <td>   -0.5426</td> <td>    3.315</td> <td>   -0.164</td> <td> 0.870</td> <td>   -7.052</td> <td>    5.967</td>\n",
       "</tr>\n",
       "<tr>\n",
       "  <th>Industry_Construction</th>                             <td>  -15.5486</td> <td>   10.882</td> <td>   -1.429</td> <td> 0.154</td> <td>  -36.920</td> <td>    5.822</td>\n",
       "</tr>\n",
       "<tr>\n",
       "  <th>Industry_Consulting</th>                               <td>   15.2892</td> <td>    6.051</td> <td>    2.527</td> <td> 0.012</td> <td>    3.406</td> <td>   27.173</td>\n",
       "</tr>\n",
       "<tr>\n",
       "  <th>Industry_Consumer Product Rental</th>                  <td>   -2.5602</td> <td>   13.022</td> <td>   -0.197</td> <td> 0.844</td> <td>  -28.136</td> <td>   23.016</td>\n",
       "</tr>\n",
       "<tr>\n",
       "  <th>Industry_Consumer Products Manufacturing</th>          <td>   12.7396</td> <td>    9.914</td> <td>    1.285</td> <td> 0.199</td> <td>   -6.730</td> <td>   32.210</td>\n",
       "</tr>\n",
       "<tr>\n",
       "  <th>Industry_Department, Clothing, & Shoe Stores</th>      <td>    3.4809</td> <td>   11.748</td> <td>    0.296</td> <td> 0.767</td> <td>  -19.593</td> <td>   26.554</td>\n",
       "</tr>\n",
       "<tr>\n",
       "  <th>Industry_Education Training Services</th>              <td>  -22.3397</td> <td>   12.576</td> <td>   -1.776</td> <td> 0.076</td> <td>  -47.038</td> <td>    2.358</td>\n",
       "</tr>\n",
       "<tr>\n",
       "  <th>Industry_Energy</th>                                   <td>   -7.1952</td> <td>    7.800</td> <td>   -0.922</td> <td> 0.357</td> <td>  -22.515</td> <td>    8.124</td>\n",
       "</tr>\n",
       "<tr>\n",
       "  <th>Industry_Enterprise Software & Network Solutions</th>  <td>    8.9515</td> <td>    3.652</td> <td>    2.451</td> <td> 0.015</td> <td>    1.779</td> <td>   16.124</td>\n",
       "</tr>\n",
       "<tr>\n",
       "  <th>Industry_Farm Support Services</th>                    <td>   -0.6472</td> <td>   12.862</td> <td>   -0.050</td> <td> 0.960</td> <td>  -25.908</td> <td>   24.613</td>\n",
       "</tr>\n",
       "<tr>\n",
       "  <th>Industry_Federal Agencies</th>                         <td>    8.2427</td> <td>    5.340</td> <td>    1.544</td> <td> 0.123</td> <td>   -2.244</td> <td>   18.729</td>\n",
       "</tr>\n",
       "<tr>\n",
       "  <th>Industry_Financial Analytics & Research</th>           <td>   -0.5031</td> <td>    9.225</td> <td>   -0.055</td> <td> 0.957</td> <td>  -18.621</td> <td>   17.615</td>\n",
       "</tr>\n",
       "<tr>\n",
       "  <th>Industry_Financial Transaction Processing</th>         <td>  -15.9008</td> <td>   12.970</td> <td>   -1.226</td> <td> 0.221</td> <td>  -41.374</td> <td>    9.573</td>\n",
       "</tr>\n",
       "<tr>\n",
       "  <th>Industry_Food & Beverage Manufacturing</th>            <td>   -5.5305</td> <td>   11.700</td> <td>   -0.473</td> <td> 0.637</td> <td>  -28.509</td> <td>   17.449</td>\n",
       "</tr>\n",
       "<tr>\n",
       "  <th>Industry_Gambling</th>                                 <td>   -7.4595</td> <td>    6.582</td> <td>   -1.133</td> <td> 0.258</td> <td>  -20.386</td> <td>    5.467</td>\n",
       "</tr>\n",
       "<tr>\n",
       "  <th>Industry_Gas Stations</th>                             <td>  -22.3774</td> <td>   15.797</td> <td>   -1.417</td> <td> 0.157</td> <td>  -53.402</td> <td>    8.647</td>\n",
       "</tr>\n",
       "<tr>\n",
       "  <th>Industry_Health Care Products Manufacturing</th>       <td>   26.4345</td> <td>   22.277</td> <td>    1.187</td> <td> 0.236</td> <td>  -17.318</td> <td>   70.187</td>\n",
       "</tr>\n",
       "<tr>\n",
       "  <th>Industry_Health Care Services & Hospitals</th>         <td>    6.1223</td> <td>    2.936</td> <td>    2.085</td> <td> 0.037</td> <td>    0.356</td> <td>   11.888</td>\n",
       "</tr>\n",
       "<tr>\n",
       "  <th>Industry_Health, Beauty, & Fitness</th>                <td>   -1.4623</td> <td>   17.466</td> <td>   -0.084</td> <td> 0.933</td> <td>  -35.765</td> <td>   32.840</td>\n",
       "</tr>\n",
       "<tr>\n",
       "  <th>Industry_IT Services</th>                              <td>    2.3765</td> <td>    3.628</td> <td>    0.655</td> <td> 0.513</td> <td>   -4.748</td> <td>    9.501</td>\n",
       "</tr>\n",
       "<tr>\n",
       "  <th>Industry_Industrial Manufacturing</th>                 <td>  -12.5427</td> <td>   12.948</td> <td>   -0.969</td> <td> 0.333</td> <td>  -37.972</td> <td>   12.887</td>\n",
       "</tr>\n",
       "<tr>\n",
       "  <th>Industry_Insurance Agencies & Brokerages</th>          <td>   -4.6274</td> <td>    7.101</td> <td>   -0.652</td> <td> 0.515</td> <td>  -18.573</td> <td>    9.318</td>\n",
       "</tr>\n",
       "<tr>\n",
       "  <th>Industry_Insurance Carriers</th>                       <td>    5.6078</td> <td>    4.540</td> <td>    1.235</td> <td> 0.217</td> <td>   -3.309</td> <td>   14.525</td>\n",
       "</tr>\n",
       "<tr>\n",
       "  <th>Industry_Internet</th>                                 <td>   -0.2540</td> <td>    4.628</td> <td>   -0.055</td> <td> 0.956</td> <td>   -9.344</td> <td>    8.836</td>\n",
       "</tr>\n",
       "<tr>\n",
       "  <th>Industry_Investment Banking & Asset Management</th>    <td>   34.9865</td> <td>   12.117</td> <td>    2.887</td> <td> 0.004</td> <td>   11.189</td> <td>   58.784</td>\n",
       "</tr>\n",
       "<tr>\n",
       "  <th>Industry_K-12 Education</th>                           <td>   10.2304</td> <td>   14.814</td> <td>    0.691</td> <td> 0.490</td> <td>  -18.864</td> <td>   39.325</td>\n",
       "</tr>\n",
       "<tr>\n",
       "  <th>Industry_Lending</th>                                  <td>    0.4752</td> <td>    9.934</td> <td>    0.048</td> <td> 0.962</td> <td>  -19.036</td> <td>   19.986</td>\n",
       "</tr>\n",
       "<tr>\n",
       "  <th>Industry_Logistics & Supply Chain</th>                 <td>   -0.1160</td> <td>   13.568</td> <td>   -0.009</td> <td> 0.993</td> <td>  -26.763</td> <td>   26.531</td>\n",
       "</tr>\n",
       "<tr>\n",
       "  <th>Industry_Metals Brokers</th>                           <td>   -1.3438</td> <td>   15.869</td> <td>   -0.085</td> <td> 0.933</td> <td>  -32.510</td> <td>   29.823</td>\n",
       "</tr>\n",
       "<tr>\n",
       "  <th>Industry_Mining</th>                                   <td>   -8.4192</td> <td>   18.135</td> <td>   -0.464</td> <td> 0.643</td> <td>  -44.035</td> <td>   27.197</td>\n",
       "</tr>\n",
       "<tr>\n",
       "  <th>Industry_Motion Picture Production & Distribution</th> <td>   44.9290</td> <td>   19.841</td> <td>    2.264</td> <td> 0.024</td> <td>    5.962</td> <td>   83.896</td>\n",
       "</tr>\n",
       "<tr>\n",
       "  <th>Industry_Other Retail Stores</th>                      <td>   40.0438</td> <td>   22.200</td> <td>    1.804</td> <td> 0.072</td> <td>   -3.556</td> <td>   83.644</td>\n",
       "</tr>\n",
       "<tr>\n",
       "  <th>Industry_Real Estate</th>                              <td>   -1.9377</td> <td>    4.989</td> <td>   -0.388</td> <td> 0.698</td> <td>  -11.735</td> <td>    7.860</td>\n",
       "</tr>\n",
       "<tr>\n",
       "  <th>Industry_Religious Organizations</th>                  <td>   25.2074</td> <td>   13.757</td> <td>    1.832</td> <td> 0.067</td> <td>   -1.811</td> <td>   52.226</td>\n",
       "</tr>\n",
       "<tr>\n",
       "  <th>Industry_Research & Development</th>                   <td>   -4.5577</td> <td>    6.587</td> <td>   -0.692</td> <td> 0.489</td> <td>  -17.495</td> <td>    8.379</td>\n",
       "</tr>\n",
       "<tr>\n",
       "  <th>Industry_Security Services</th>                        <td>   13.4749</td> <td>    9.848</td> <td>    1.368</td> <td> 0.172</td> <td>   -5.867</td> <td>   32.816</td>\n",
       "</tr>\n",
       "<tr>\n",
       "  <th>Industry_Social Assistance</th>                        <td>  -12.3257</td> <td>   11.829</td> <td>   -1.042</td> <td> 0.298</td> <td>  -35.557</td> <td>   10.905</td>\n",
       "</tr>\n",
       "<tr>\n",
       "  <th>Industry_Sporting Goods Stores</th>                    <td>  -39.1540</td> <td>   17.971</td> <td>   -2.179</td> <td> 0.030</td> <td>  -74.448</td> <td>   -3.860</td>\n",
       "</tr>\n",
       "<tr>\n",
       "  <th>Industry_Staffing & Outsourcing</th>                   <td>   -6.8863</td> <td>   11.092</td> <td>   -0.621</td> <td> 0.535</td> <td>  -28.671</td> <td>   14.898</td>\n",
       "</tr>\n",
       "<tr>\n",
       "  <th>Industry_Stock Exchanges</th>                          <td>  -15.8156</td> <td>    7.924</td> <td>   -1.996</td> <td> 0.046</td> <td>  -31.379</td> <td>   -0.252</td>\n",
       "</tr>\n",
       "<tr>\n",
       "  <th>Industry_TV Broadcast & Cable Networks</th>            <td>    7.2056</td> <td>   15.953</td> <td>    0.452</td> <td> 0.652</td> <td>  -24.126</td> <td>   38.537</td>\n",
       "</tr>\n",
       "<tr>\n",
       "  <th>Industry_Telecommunications Manufacturing</th>         <td>    4.3124</td> <td>   13.716</td> <td>    0.314</td> <td> 0.753</td> <td>  -22.626</td> <td>   31.251</td>\n",
       "</tr>\n",
       "<tr>\n",
       "  <th>Industry_Telecommunications Services</th>              <td>   -0.7830</td> <td>   11.284</td> <td>   -0.069</td> <td> 0.945</td> <td>  -22.944</td> <td>   21.378</td>\n",
       "</tr>\n",
       "<tr>\n",
       "  <th>Industry_Transportation Equipment Manufacturing</th>   <td>  -22.0061</td> <td>   23.807</td> <td>   -0.924</td> <td> 0.356</td> <td>  -68.762</td> <td>   24.749</td>\n",
       "</tr>\n",
       "<tr>\n",
       "  <th>Industry_Transportation Management</th>                <td>  -19.7416</td> <td>   14.222</td> <td>   -1.388</td> <td> 0.166</td> <td>  -47.674</td> <td>    8.191</td>\n",
       "</tr>\n",
       "<tr>\n",
       "  <th>Industry_Travel Agencies</th>                          <td>   -6.0663</td> <td>    5.312</td> <td>   -1.142</td> <td> 0.254</td> <td>  -16.500</td> <td>    4.367</td>\n",
       "</tr>\n",
       "<tr>\n",
       "  <th>Industry_Trucking</th>                                 <td>   24.0309</td> <td>   19.885</td> <td>    1.209</td> <td> 0.227</td> <td>  -15.022</td> <td>   63.084</td>\n",
       "</tr>\n",
       "<tr>\n",
       "  <th>Industry_Video Games</th>                              <td>  -37.0914</td> <td>   16.263</td> <td>   -2.281</td> <td> 0.023</td> <td>  -69.031</td> <td>   -5.152</td>\n",
       "</tr>\n",
       "<tr>\n",
       "  <th>Industry_Wholesale</th>                                <td>   -2.3038</td> <td>   13.112</td> <td>   -0.176</td> <td> 0.861</td> <td>  -28.056</td> <td>   23.448</td>\n",
       "</tr>\n",
       "<tr>\n",
       "  <th>Sector_-1</th>                                         <td>    5.9119</td> <td>    7.954</td> <td>    0.743</td> <td> 0.458</td> <td>   -9.710</td> <td>   21.534</td>\n",
       "</tr>\n",
       "<tr>\n",
       "  <th>Sector_Accounting & Legal</th>                         <td>    1.6615</td> <td>   13.517</td> <td>    0.123</td> <td> 0.902</td> <td>  -24.886</td> <td>   28.209</td>\n",
       "</tr>\n",
       "<tr>\n",
       "  <th>Sector_Aerospace & Defense</th>                        <td>    5.3864</td> <td>    3.144</td> <td>    1.713</td> <td> 0.087</td> <td>   -0.788</td> <td>   11.561</td>\n",
       "</tr>\n",
       "<tr>\n",
       "  <th>Sector_Agriculture & Forestry</th>                     <td>   -0.6472</td> <td>   12.862</td> <td>   -0.050</td> <td> 0.960</td> <td>  -25.908</td> <td>   24.613</td>\n",
       "</tr>\n",
       "<tr>\n",
       "  <th>Sector_Arts, Entertainment & Recreation</th>           <td>   -7.4595</td> <td>    6.582</td> <td>   -1.133</td> <td> 0.258</td> <td>  -20.386</td> <td>    5.467</td>\n",
       "</tr>\n",
       "<tr>\n",
       "  <th>Sector_Biotech & Pharmaceuticals</th>                  <td>    5.7599</td> <td>    2.130</td> <td>    2.704</td> <td> 0.007</td> <td>    1.576</td> <td>    9.944</td>\n",
       "</tr>\n",
       "<tr>\n",
       "  <th>Sector_Business Services</th>                          <td>   -3.9096</td> <td>    4.283</td> <td>   -0.913</td> <td> 0.362</td> <td>  -12.322</td> <td>    4.503</td>\n",
       "</tr>\n",
       "<tr>\n",
       "  <th>Sector_Construction, Repair & Maintenance</th>         <td>  -15.5486</td> <td>   10.882</td> <td>   -1.429</td> <td> 0.154</td> <td>  -36.920</td> <td>    5.822</td>\n",
       "</tr>\n",
       "<tr>\n",
       "  <th>Sector_Consumer Services</th>                          <td>   -4.0225</td> <td>    9.548</td> <td>   -0.421</td> <td> 0.674</td> <td>  -22.774</td> <td>   14.729</td>\n",
       "</tr>\n",
       "<tr>\n",
       "  <th>Sector_Education</th>                                  <td>    0.3138</td> <td>    6.979</td> <td>    0.045</td> <td> 0.964</td> <td>  -13.393</td> <td>   14.020</td>\n",
       "</tr>\n",
       "<tr>\n",
       "  <th>Sector_Finance</th>                                    <td>   13.5762</td> <td>    4.534</td> <td>    2.994</td> <td> 0.003</td> <td>    4.671</td> <td>   22.481</td>\n",
       "</tr>\n",
       "<tr>\n",
       "  <th>Sector_Government</th>                                 <td>    8.2427</td> <td>    5.340</td> <td>    1.544</td> <td> 0.123</td> <td>   -2.244</td> <td>   18.729</td>\n",
       "</tr>\n",
       "<tr>\n",
       "  <th>Sector_Health Care</th>                                <td>    6.1223</td> <td>    2.936</td> <td>    2.085</td> <td> 0.037</td> <td>    0.356</td> <td>   11.888</td>\n",
       "</tr>\n",
       "<tr>\n",
       "  <th>Sector_Information Technology</th>                     <td>   10.5315</td> <td>    2.802</td> <td>    3.759</td> <td> 0.000</td> <td>    5.029</td> <td>   16.034</td>\n",
       "</tr>\n",
       "<tr>\n",
       "  <th>Sector_Insurance</th>                                  <td>    0.9804</td> <td>    4.008</td> <td>    0.245</td> <td> 0.807</td> <td>   -6.892</td> <td>    8.853</td>\n",
       "</tr>\n",
       "<tr>\n",
       "  <th>Sector_Manufacturing</th>                              <td>   -0.9050</td> <td>    6.995</td> <td>   -0.129</td> <td> 0.897</td> <td>  -14.642</td> <td>   12.832</td>\n",
       "</tr>\n",
       "<tr>\n",
       "  <th>Sector_Media</th>                                      <td>   15.0432</td> <td>    9.067</td> <td>    1.659</td> <td> 0.098</td> <td>   -2.763</td> <td>   32.850</td>\n",
       "</tr>\n",
       "<tr>\n",
       "  <th>Sector_Mining & Metals</th>                            <td>   -9.7631</td> <td>   10.778</td> <td>   -0.906</td> <td> 0.365</td> <td>  -30.930</td> <td>   11.404</td>\n",
       "</tr>\n",
       "<tr>\n",
       "  <th>Sector_Non-Profit</th>                                 <td>   12.8816</td> <td>    9.013</td> <td>    1.429</td> <td> 0.153</td> <td>   -4.821</td> <td>   30.584</td>\n",
       "</tr>\n",
       "<tr>\n",
       "  <th>Sector_Oil, Gas, Energy & Utilities</th>               <td>   -7.1952</td> <td>    7.800</td> <td>   -0.922</td> <td> 0.357</td> <td>  -22.515</td> <td>    8.124</td>\n",
       "</tr>\n",
       "<tr>\n",
       "  <th>Sector_Real Estate</th>                                <td>   -1.9377</td> <td>    4.989</td> <td>   -0.388</td> <td> 0.698</td> <td>  -11.735</td> <td>    7.860</td>\n",
       "</tr>\n",
       "<tr>\n",
       "  <th>Sector_Retail</th>                                     <td>    6.5933</td> <td>    7.297</td> <td>    0.904</td> <td> 0.367</td> <td>   -7.738</td> <td>   20.925</td>\n",
       "</tr>\n",
       "<tr>\n",
       "  <th>Sector_Telecommunications</th>                         <td>    3.5293</td> <td>    7.850</td> <td>    0.450</td> <td> 0.653</td> <td>  -11.889</td> <td>   18.947</td>\n",
       "</tr>\n",
       "<tr>\n",
       "  <th>Sector_Transportation & Logistics</th>                 <td>    4.1734</td> <td>    8.131</td> <td>    0.513</td> <td> 0.608</td> <td>  -11.796</td> <td>   20.143</td>\n",
       "</tr>\n",
       "<tr>\n",
       "  <th>Sector_Travel & Tourism</th>                           <td>   -6.0663</td> <td>    5.312</td> <td>   -1.142</td> <td> 0.254</td> <td>  -16.500</td> <td>    4.367</td>\n",
       "</tr>\n",
       "<tr>\n",
       "  <th>Revenue_$1 to $2 billion (USD)</th>                    <td>    2.5463</td> <td>    4.807</td> <td>    0.530</td> <td> 0.597</td> <td>   -6.894</td> <td>   11.987</td>\n",
       "</tr>\n",
       "<tr>\n",
       "  <th>Revenue_$1 to $5 million (USD)</th>                    <td>   -6.8767</td> <td>   10.976</td> <td>   -0.627</td> <td> 0.531</td> <td>  -28.434</td> <td>   14.681</td>\n",
       "</tr>\n",
       "<tr>\n",
       "  <th>Revenue_$10 to $25 million (USD)</th>                  <td>   -5.0222</td> <td>    5.259</td> <td>   -0.955</td> <td> 0.340</td> <td>  -15.350</td> <td>    5.306</td>\n",
       "</tr>\n",
       "<tr>\n",
       "  <th>Revenue_$10+ billion (USD)</th>                        <td>   12.1724</td> <td>    6.449</td> <td>    1.888</td> <td> 0.060</td> <td>   -0.493</td> <td>   24.837</td>\n",
       "</tr>\n",
       "<tr>\n",
       "  <th>Revenue_$100 to $500 million (USD)</th>                <td>   -4.4674</td> <td>    4.077</td> <td>   -1.096</td> <td> 0.274</td> <td>  -12.474</td> <td>    3.539</td>\n",
       "</tr>\n",
       "<tr>\n",
       "  <th>Revenue_$2 to $5 billion (USD)</th>                    <td>    0.1548</td> <td>    6.315</td> <td>    0.025</td> <td> 0.980</td> <td>  -12.247</td> <td>   12.557</td>\n",
       "</tr>\n",
       "<tr>\n",
       "  <th>Revenue_$25 to $50 million (USD)</th>                  <td>   -6.3101</td> <td>    5.398</td> <td>   -1.169</td> <td> 0.243</td> <td>  -16.913</td> <td>    4.292</td>\n",
       "</tr>\n",
       "<tr>\n",
       "  <th>Revenue_$5 to $10 billion (USD)</th>                   <td>    8.9731</td> <td>    7.937</td> <td>    1.131</td> <td> 0.259</td> <td>   -6.614</td> <td>   24.560</td>\n",
       "</tr>\n",
       "<tr>\n",
       "  <th>Revenue_$5 to $10 million (USD)</th>                   <td>   30.5148</td> <td>    8.363</td> <td>    3.649</td> <td> 0.000</td> <td>   14.090</td> <td>   46.940</td>\n",
       "</tr>\n",
       "<tr>\n",
       "  <th>Revenue_$50 to $100 million (USD)</th>                 <td>    4.9813</td> <td>    4.996</td> <td>    0.997</td> <td> 0.319</td> <td>   -4.832</td> <td>   14.794</td>\n",
       "</tr>\n",
       "<tr>\n",
       "  <th>Revenue_$500 million to $1 billion (USD)</th>          <td>   -1.9929</td> <td>    5.323</td> <td>   -0.374</td> <td> 0.708</td> <td>  -12.448</td> <td>    8.462</td>\n",
       "</tr>\n",
       "<tr>\n",
       "  <th>Revenue_-1</th>                                        <td>   12.6199</td> <td>    8.644</td> <td>    1.460</td> <td> 0.145</td> <td>   -4.357</td> <td>   29.597</td>\n",
       "</tr>\n",
       "<tr>\n",
       "  <th>Revenue_Less than $1 million (USD)</th>                <td>   -2.9612</td> <td>   15.263</td> <td>   -0.194</td> <td> 0.846</td> <td>  -32.938</td> <td>   27.015</td>\n",
       "</tr>\n",
       "<tr>\n",
       "  <th>Revenue_Unknown / Non-Applicable</th>                  <td>   -1.0792</td> <td>    3.151</td> <td>   -0.343</td> <td> 0.732</td> <td>   -7.267</td> <td>    5.108</td>\n",
       "</tr>\n",
       "<tr>\n",
       "  <th>job_state_AL</th>                                      <td>   -7.7044</td> <td>   10.580</td> <td>   -0.728</td> <td> 0.467</td> <td>  -28.483</td> <td>   13.074</td>\n",
       "</tr>\n",
       "<tr>\n",
       "  <th>job_state_AZ</th>                                      <td>  -14.5938</td> <td>    8.730</td> <td>   -1.672</td> <td> 0.095</td> <td>  -31.739</td> <td>    2.552</td>\n",
       "</tr>\n",
       "<tr>\n",
       "  <th>job_state_CA</th>                                      <td>   26.7201</td> <td>    3.268</td> <td>    8.175</td> <td> 0.000</td> <td>   20.301</td> <td>   33.139</td>\n",
       "</tr>\n",
       "<tr>\n",
       "  <th>job_state_CO</th>                                      <td>    6.8666</td> <td>    8.382</td> <td>    0.819</td> <td> 0.413</td> <td>   -9.596</td> <td>   23.329</td>\n",
       "</tr>\n",
       "<tr>\n",
       "  <th>job_state_CT</th>                                      <td>  -26.0143</td> <td>   11.543</td> <td>   -2.254</td> <td> 0.025</td> <td>  -48.685</td> <td>   -3.344</td>\n",
       "</tr>\n",
       "<tr>\n",
       "  <th>job_state_DC</th>                                      <td>   13.9166</td> <td>    7.979</td> <td>    1.744</td> <td> 0.082</td> <td>   -1.753</td> <td>   29.587</td>\n",
       "</tr>\n",
       "<tr>\n",
       "  <th>job_state_DE</th>                                      <td>    7.2012</td> <td>   14.151</td> <td>    0.509</td> <td> 0.611</td> <td>  -20.590</td> <td>   34.993</td>\n",
       "</tr>\n",
       "<tr>\n",
       "  <th>job_state_FL</th>                                      <td>  -16.8990</td> <td>    7.681</td> <td>   -2.200</td> <td> 0.028</td> <td>  -31.984</td> <td>   -1.814</td>\n",
       "</tr>\n",
       "<tr>\n",
       "  <th>job_state_GA</th>                                      <td>  -17.5524</td> <td>   10.208</td> <td>   -1.719</td> <td> 0.086</td> <td>  -37.601</td> <td>    2.496</td>\n",
       "</tr>\n",
       "<tr>\n",
       "  <th>job_state_IA</th>                                      <td>   -0.3967</td> <td>   12.542</td> <td>   -0.032</td> <td> 0.975</td> <td>  -25.028</td> <td>   24.235</td>\n",
       "</tr>\n",
       "<tr>\n",
       "  <th>job_state_ID</th>                                      <td>  -22.5954</td> <td>   18.418</td> <td>   -1.227</td> <td> 0.220</td> <td>  -58.768</td> <td>   13.578</td>\n",
       "</tr>\n",
       "<tr>\n",
       "  <th>job_state_IL</th>                                      <td>    9.7674</td> <td>    5.065</td> <td>    1.928</td> <td> 0.054</td> <td>   -0.181</td> <td>   19.716</td>\n",
       "</tr>\n",
       "<tr>\n",
       "  <th>job_state_IN</th>                                      <td>  -10.4682</td> <td>    8.894</td> <td>   -1.177</td> <td> 0.240</td> <td>  -27.936</td> <td>    7.000</td>\n",
       "</tr>\n",
       "<tr>\n",
       "  <th>job_state_KS</th>                                      <td>  -15.8156</td> <td>    7.924</td> <td>   -1.996</td> <td> 0.046</td> <td>  -31.379</td> <td>   -0.252</td>\n",
       "</tr>\n",
       "<tr>\n",
       "  <th>job_state_KY</th>                                      <td>   20.9016</td> <td>   12.454</td> <td>    1.678</td> <td> 0.094</td> <td>   -3.557</td> <td>   45.360</td>\n",
       "</tr>\n",
       "<tr>\n",
       "  <th>job_state_LA</th>                                      <td>   -6.8627</td> <td>   13.180</td> <td>   -0.521</td> <td> 0.603</td> <td>  -32.748</td> <td>   19.022</td>\n",
       "</tr>\n",
       "<tr>\n",
       "  <th>job_state_MA</th>                                      <td>    3.2845</td> <td>    3.922</td> <td>    0.837</td> <td> 0.403</td> <td>   -4.418</td> <td>   10.987</td>\n",
       "</tr>\n",
       "<tr>\n",
       "  <th>job_state_MD</th>                                      <td>    7.1541</td> <td>    5.038</td> <td>    1.420</td> <td> 0.156</td> <td>   -2.741</td> <td>   17.049</td>\n",
       "</tr>\n",
       "<tr>\n",
       "  <th>job_state_MI</th>                                      <td>    7.2256</td> <td>   12.397</td> <td>    0.583</td> <td> 0.560</td> <td>  -17.122</td> <td>   31.573</td>\n",
       "</tr>\n",
       "<tr>\n",
       "  <th>job_state_MN</th>                                      <td>    6.8256</td> <td>   17.422</td> <td>    0.392</td> <td> 0.695</td> <td>  -27.391</td> <td>   41.042</td>\n",
       "</tr>\n",
       "<tr>\n",
       "  <th>job_state_MO</th>                                      <td>   12.6697</td> <td>    9.951</td> <td>    1.273</td> <td> 0.203</td> <td>   -6.875</td> <td>   32.214</td>\n",
       "</tr>\n",
       "<tr>\n",
       "  <th>job_state_NC</th>                                      <td>   -4.7106</td> <td>    6.776</td> <td>   -0.695</td> <td> 0.487</td> <td>  -18.018</td> <td>    8.597</td>\n",
       "</tr>\n",
       "<tr>\n",
       "  <th>job_state_NE</th>                                      <td>   -5.6025</td> <td>   13.710</td> <td>   -0.409</td> <td> 0.683</td> <td>  -32.529</td> <td>   21.324</td>\n",
       "</tr>\n",
       "<tr>\n",
       "  <th>job_state_NJ</th>                                      <td>    2.2764</td> <td>    6.865</td> <td>    0.332</td> <td> 0.740</td> <td>  -11.206</td> <td>   15.759</td>\n",
       "</tr>\n",
       "<tr>\n",
       "  <th>job_state_NM</th>                                      <td>  -30.3617</td> <td>   14.655</td> <td>   -2.072</td> <td> 0.039</td> <td>  -59.144</td> <td>   -1.580</td>\n",
       "</tr>\n",
       "<tr>\n",
       "  <th>job_state_NY</th>                                      <td>    5.8891</td> <td>    4.067</td> <td>    1.448</td> <td> 0.148</td> <td>   -2.098</td> <td>   13.876</td>\n",
       "</tr>\n",
       "<tr>\n",
       "  <th>job_state_OH</th>                                      <td>   -2.4435</td> <td>    8.257</td> <td>   -0.296</td> <td> 0.767</td> <td>  -18.660</td> <td>   13.773</td>\n",
       "</tr>\n",
       "<tr>\n",
       "  <th>job_state_OR</th>                                      <td>    5.2696</td> <td>   12.743</td> <td>    0.414</td> <td> 0.679</td> <td>  -19.757</td> <td>   30.296</td>\n",
       "</tr>\n",
       "<tr>\n",
       "  <th>job_state_PA</th>                                      <td>   10.9028</td> <td>    7.341</td> <td>    1.485</td> <td> 0.138</td> <td>   -3.514</td> <td>   25.319</td>\n",
       "</tr>\n",
       "<tr>\n",
       "  <th>job_state_RI</th>                                      <td>   38.0463</td> <td>   24.781</td> <td>    1.535</td> <td> 0.125</td> <td>  -10.623</td> <td>   86.716</td>\n",
       "</tr>\n",
       "<tr>\n",
       "  <th>job_state_SC</th>                                      <td>   32.7256</td> <td>   29.707</td> <td>    1.102</td> <td> 0.271</td> <td>  -25.618</td> <td>   91.069</td>\n",
       "</tr>\n",
       "<tr>\n",
       "  <th>job_state_TN</th>                                      <td>   -5.9741</td> <td>    9.381</td> <td>   -0.637</td> <td> 0.524</td> <td>  -24.398</td> <td>   12.450</td>\n",
       "</tr>\n",
       "<tr>\n",
       "  <th>job_state_TX</th>                                      <td>    0.5999</td> <td>    5.679</td> <td>    0.106</td> <td> 0.916</td> <td>  -10.553</td> <td>   11.753</td>\n",
       "</tr>\n",
       "<tr>\n",
       "  <th>job_state_UT</th>                                      <td>    4.3715</td> <td>   14.943</td> <td>    0.293</td> <td> 0.770</td> <td>  -24.976</td> <td>   33.719</td>\n",
       "</tr>\n",
       "<tr>\n",
       "  <th>job_state_VA</th>                                      <td>   -0.5072</td> <td>    5.030</td> <td>   -0.101</td> <td> 0.920</td> <td>  -10.386</td> <td>    9.372</td>\n",
       "</tr>\n",
       "<tr>\n",
       "  <th>job_state_WA</th>                                      <td>   12.6973</td> <td>    8.175</td> <td>    1.553</td> <td> 0.121</td> <td>   -3.359</td> <td>   28.754</td>\n",
       "</tr>\n",
       "<tr>\n",
       "  <th>job_state_WI</th>                                      <td>   -3.5563</td> <td>   10.128</td> <td>   -0.351</td> <td> 0.726</td> <td>  -23.448</td> <td>   16.336</td>\n",
       "</tr>\n",
       "<tr>\n",
       "  <th>job_simp_analyst</th>                                  <td>  -30.0384</td> <td>    3.504</td> <td>   -8.572</td> <td> 0.000</td> <td>  -36.920</td> <td>  -23.156</td>\n",
       "</tr>\n",
       "<tr>\n",
       "  <th>job_simp_data engineer</th>                            <td>    2.0687</td> <td>    3.315</td> <td>    0.624</td> <td> 0.533</td> <td>   -4.441</td> <td>    8.579</td>\n",
       "</tr>\n",
       "<tr>\n",
       "  <th>job_simp_data scientist</th>                           <td>    8.2732</td> <td>    2.560</td> <td>    3.232</td> <td> 0.001</td> <td>    3.245</td> <td>   13.301</td>\n",
       "</tr>\n",
       "<tr>\n",
       "  <th>job_simp_director</th>                                 <td>   66.4567</td> <td>    6.840</td> <td>    9.716</td> <td> 0.000</td> <td>   53.023</td> <td>   79.890</td>\n",
       "</tr>\n",
       "<tr>\n",
       "  <th>job_simp_manager</th>                                  <td>  -12.5291</td> <td>    5.674</td> <td>   -2.208</td> <td> 0.028</td> <td>  -23.672</td> <td>   -1.386</td>\n",
       "</tr>\n",
       "<tr>\n",
       "  <th>job_simp_mle</th>                                      <td>   21.0135</td> <td>    6.210</td> <td>    3.384</td> <td> 0.001</td> <td>    8.817</td> <td>   33.210</td>\n",
       "</tr>\n",
       "<tr>\n",
       "  <th>job_simp_na</th>                                       <td>  -11.9917</td> <td>    3.031</td> <td>   -3.956</td> <td> 0.000</td> <td>  -17.945</td> <td>   -6.038</td>\n",
       "</tr>\n",
       "<tr>\n",
       "  <th>seniority_jr</th>                                      <td>   11.4506</td> <td>   13.397</td> <td>    0.855</td> <td> 0.393</td> <td>  -14.860</td> <td>   37.762</td>\n",
       "</tr>\n",
       "<tr>\n",
       "  <th>seniority_na</th>                                      <td>    3.1673</td> <td>    5.223</td> <td>    0.606</td> <td> 0.544</td> <td>   -7.091</td> <td>   13.425</td>\n",
       "</tr>\n",
       "<tr>\n",
       "  <th>seniority_senior</th>                                  <td>   28.6349</td> <td>    5.425</td> <td>    5.278</td> <td> 0.000</td> <td>   17.980</td> <td>   39.290</td>\n",
       "</tr>\n",
       "</table>\n",
       "<table class=\"simpletable\">\n",
       "<tr>\n",
       "  <th>Omnibus:</th>       <td>67.317</td> <th>  Durbin-Watson:     </th> <td>   2.059</td>\n",
       "</tr>\n",
       "<tr>\n",
       "  <th>Prob(Omnibus):</th> <td> 0.000</td> <th>  Jarque-Bera (JB):  </th> <td> 275.765</td>\n",
       "</tr>\n",
       "<tr>\n",
       "  <th>Skew:</th>          <td> 0.306</td> <th>  Prob(JB):          </th> <td>1.31e-60</td>\n",
       "</tr>\n",
       "<tr>\n",
       "  <th>Kurtosis:</th>      <td> 5.923</td> <th>  Cond. No.          </th> <td>2.22e+19</td>\n",
       "</tr>\n",
       "</table><br/><br/>Warnings:<br/>[1] Standard Errors assume that the covariance matrix of the errors is correctly specified.<br/>[2] The smallest eigenvalue is 2.6e-29. This might indicate that there are<br/>strong multicollinearity problems or that the design matrix is singular."
      ],
      "text/plain": [
       "<class 'statsmodels.iolib.summary.Summary'>\n",
       "\"\"\"\n",
       "                            OLS Regression Results                            \n",
       "==============================================================================\n",
       "Dep. Variable:                      y   R-squared:                       0.711\n",
       "Model:                            OLS   Adj. R-squared:                  0.639\n",
       "Method:                 Least Squares   F-statistic:                     9.856\n",
       "Date:                Tue, 25 Jan 2022   Prob (F-statistic):           7.48e-93\n",
       "Time:                        10:40:55   Log-Likelihood:                -3307.5\n",
       "No. Observations:                 742   AIC:                             6913.\n",
       "Df Residuals:                     593   BIC:                             7600.\n",
       "Df Model:                         148                                         \n",
       "Covariance Type:            nonrobust                                         \n",
       "=====================================================================================================================\n",
       "                                                        coef    std err          t      P>|t|      [0.025      0.975]\n",
       "---------------------------------------------------------------------------------------------------------------------\n",
       "const                                                43.2528      7.211      5.998      0.000      29.091      57.415\n",
       "Rating                                                3.4606      1.959      1.766      0.078      -0.388       7.309\n",
       "num_comp                                              2.1108      0.871      2.422      0.016       0.399       3.822\n",
       "hourly                                              -37.3070      9.372     -3.981      0.000     -55.714     -18.900\n",
       "employer_provided                                    31.9315     11.617      2.749      0.006       9.115      54.748\n",
       "same_state                                            2.5599      2.630      0.973      0.331      -2.606       7.726\n",
       "age                                                   0.0291      0.030      0.961      0.337      -0.030       0.089\n",
       "desc_len                                             -0.0003      0.001     -0.322      0.747      -0.002       0.001\n",
       "python_yn                                             9.3532      2.601      3.595      0.000       4.244      14.462\n",
       "R_yn                                                 18.0532     29.110      0.620      0.535     -39.118      75.225\n",
       "sql_yn                                               -2.0112      2.710     -0.742      0.458      -7.333       3.311\n",
       "tableau_yn                                           -5.8602      3.110     -1.884      0.060     -11.969       0.248\n",
       "spark_yn                                             -0.8827      2.997     -0.295      0.768      -6.768       5.003\n",
       "aws_yn                                                1.2893      2.759      0.467      0.640      -4.129       6.708\n",
       "excel_yn                                              0.1936      2.286      0.085      0.933      -4.296       4.683\n",
       "phd_yn                                                1.9851      2.854      0.696      0.487      -3.620       7.590\n",
       "masters_yn                                            0.3612      5.148      0.070      0.944      -9.750      10.472\n",
       "bachelors_yn                                          1.4122      2.546      0.555      0.579      -3.588       6.412\n",
       "Size_-1                                              12.6199      8.644      1.460      0.145      -4.357      29.597\n",
       "Size_1 to 50 employees                                1.1936      6.546      0.182      0.855     -11.663      14.050\n",
       "Size_10000+ employees                                -3.3593      5.812     -0.578      0.563     -14.773       8.054\n",
       "Size_1001 to 5000 employees                           7.1075      3.961      1.794      0.073      -0.672      14.887\n",
       "Size_201 to 500 employees                             3.0152      3.900      0.773      0.440      -4.644      10.674\n",
       "Size_5001 to 10000 employees                         -4.1693      5.454     -0.764      0.445     -14.881       6.543\n",
       "Size_501 to 1000 employees                            3.1303      4.084      0.766      0.444      -4.891      11.152\n",
       "Size_51 to 200 employees                              4.8098      4.438      1.084      0.279      -3.905      13.525\n",
       "Size_Unknown                                         18.9051     14.030      1.347      0.178      -8.650      46.460\n",
       "Type of ownership_-1                                 12.6199      8.644      1.460      0.145      -4.357      29.597\n",
       "Type of ownership_College / University               -1.2022     18.063     -0.067      0.947     -36.677      34.273\n",
       "Type of ownership_Company - Private                   8.7494      5.301      1.650      0.099      -1.662      19.161\n",
       "Type of ownership_Company - Public                   13.7316      5.829      2.356      0.019       2.284      25.179\n",
       "Type of ownership_Government                        -11.5192     15.416     -0.747      0.455     -41.796      18.758\n",
       "Type of ownership_Hospital                           -6.7280     10.131     -0.664      0.507     -26.625      13.169\n",
       "Type of ownership_Nonprofit Organization             -7.1482      6.839     -1.045      0.296     -20.579       6.283\n",
       "Type of ownership_Other Organization                 -3.8390     14.495     -0.265      0.791     -32.307      24.629\n",
       "Type of ownership_School / School District          -10.8502     24.205     -0.448      0.654     -58.388      36.688\n",
       "Type of ownership_Subsidiary or Business Segment     13.4152      6.960      1.927      0.054      -0.255      27.085\n",
       "Type of ownership_Unknown                            36.0235     28.629      1.258      0.209     -20.202      92.249\n",
       "Industry_-1                                           5.9119      7.954      0.743      0.458      -9.710      21.534\n",
       "Industry_Accounting                                   1.6615     13.517      0.123      0.902     -24.886      28.209\n",
       "Industry_Advertising & Marketing                     14.4023      6.109      2.357      0.019       2.404      26.401\n",
       "Industry_Aerospace & Defense                          5.3864      3.144      1.713      0.087      -0.788      11.561\n",
       "Industry_Architectural & Engineering Services       -33.3282     16.024     -2.080      0.038     -64.799      -1.857\n",
       "Industry_Auctions & Galleries                         9.7240     22.965      0.423      0.672     -35.379      54.827\n",
       "Industry_Banks & Credit Unions                      -17.8676      8.063     -2.216      0.027     -33.704      -2.032\n",
       "Industry_Beauty & Personal Accessories Stores        14.8760     21.648      0.687      0.492     -27.640      57.392\n",
       "Industry_Biotech & Pharmaceuticals                    5.7599      2.130      2.704      0.007       1.576       9.944\n",
       "Industry_Brokerage Services                          28.2016     15.538      1.815      0.070      -2.314      58.717\n",
       "Industry_Colleges & Universities                     12.4231     13.012      0.955      0.340     -13.132      37.978\n",
       "Industry_Computer Hardware & Software                -0.5426      3.315     -0.164      0.870      -7.052       5.967\n",
       "Industry_Construction                               -15.5486     10.882     -1.429      0.154     -36.920       5.822\n",
       "Industry_Consulting                                  15.2892      6.051      2.527      0.012       3.406      27.173\n",
       "Industry_Consumer Product Rental                     -2.5602     13.022     -0.197      0.844     -28.136      23.016\n",
       "Industry_Consumer Products Manufacturing             12.7396      9.914      1.285      0.199      -6.730      32.210\n",
       "Industry_Department, Clothing, & Shoe Stores          3.4809     11.748      0.296      0.767     -19.593      26.554\n",
       "Industry_Education Training Services                -22.3397     12.576     -1.776      0.076     -47.038       2.358\n",
       "Industry_Energy                                      -7.1952      7.800     -0.922      0.357     -22.515       8.124\n",
       "Industry_Enterprise Software & Network Solutions      8.9515      3.652      2.451      0.015       1.779      16.124\n",
       "Industry_Farm Support Services                       -0.6472     12.862     -0.050      0.960     -25.908      24.613\n",
       "Industry_Federal Agencies                             8.2427      5.340      1.544      0.123      -2.244      18.729\n",
       "Industry_Financial Analytics & Research              -0.5031      9.225     -0.055      0.957     -18.621      17.615\n",
       "Industry_Financial Transaction Processing           -15.9008     12.970     -1.226      0.221     -41.374       9.573\n",
       "Industry_Food & Beverage Manufacturing               -5.5305     11.700     -0.473      0.637     -28.509      17.449\n",
       "Industry_Gambling                                    -7.4595      6.582     -1.133      0.258     -20.386       5.467\n",
       "Industry_Gas Stations                               -22.3774     15.797     -1.417      0.157     -53.402       8.647\n",
       "Industry_Health Care Products Manufacturing          26.4345     22.277      1.187      0.236     -17.318      70.187\n",
       "Industry_Health Care Services & Hospitals             6.1223      2.936      2.085      0.037       0.356      11.888\n",
       "Industry_Health, Beauty, & Fitness                   -1.4623     17.466     -0.084      0.933     -35.765      32.840\n",
       "Industry_IT Services                                  2.3765      3.628      0.655      0.513      -4.748       9.501\n",
       "Industry_Industrial Manufacturing                   -12.5427     12.948     -0.969      0.333     -37.972      12.887\n",
       "Industry_Insurance Agencies & Brokerages             -4.6274      7.101     -0.652      0.515     -18.573       9.318\n",
       "Industry_Insurance Carriers                           5.6078      4.540      1.235      0.217      -3.309      14.525\n",
       "Industry_Internet                                    -0.2540      4.628     -0.055      0.956      -9.344       8.836\n",
       "Industry_Investment Banking & Asset Management       34.9865     12.117      2.887      0.004      11.189      58.784\n",
       "Industry_K-12 Education                              10.2304     14.814      0.691      0.490     -18.864      39.325\n",
       "Industry_Lending                                      0.4752      9.934      0.048      0.962     -19.036      19.986\n",
       "Industry_Logistics & Supply Chain                    -0.1160     13.568     -0.009      0.993     -26.763      26.531\n",
       "Industry_Metals Brokers                              -1.3438     15.869     -0.085      0.933     -32.510      29.823\n",
       "Industry_Mining                                      -8.4192     18.135     -0.464      0.643     -44.035      27.197\n",
       "Industry_Motion Picture Production & Distribution    44.9290     19.841      2.264      0.024       5.962      83.896\n",
       "Industry_Other Retail Stores                         40.0438     22.200      1.804      0.072      -3.556      83.644\n",
       "Industry_Real Estate                                 -1.9377      4.989     -0.388      0.698     -11.735       7.860\n",
       "Industry_Religious Organizations                     25.2074     13.757      1.832      0.067      -1.811      52.226\n",
       "Industry_Research & Development                      -4.5577      6.587     -0.692      0.489     -17.495       8.379\n",
       "Industry_Security Services                           13.4749      9.848      1.368      0.172      -5.867      32.816\n",
       "Industry_Social Assistance                          -12.3257     11.829     -1.042      0.298     -35.557      10.905\n",
       "Industry_Sporting Goods Stores                      -39.1540     17.971     -2.179      0.030     -74.448      -3.860\n",
       "Industry_Staffing & Outsourcing                      -6.8863     11.092     -0.621      0.535     -28.671      14.898\n",
       "Industry_Stock Exchanges                            -15.8156      7.924     -1.996      0.046     -31.379      -0.252\n",
       "Industry_TV Broadcast & Cable Networks                7.2056     15.953      0.452      0.652     -24.126      38.537\n",
       "Industry_Telecommunications Manufacturing             4.3124     13.716      0.314      0.753     -22.626      31.251\n",
       "Industry_Telecommunications Services                 -0.7830     11.284     -0.069      0.945     -22.944      21.378\n",
       "Industry_Transportation Equipment Manufacturing     -22.0061     23.807     -0.924      0.356     -68.762      24.749\n",
       "Industry_Transportation Management                  -19.7416     14.222     -1.388      0.166     -47.674       8.191\n",
       "Industry_Travel Agencies                             -6.0663      5.312     -1.142      0.254     -16.500       4.367\n",
       "Industry_Trucking                                    24.0309     19.885      1.209      0.227     -15.022      63.084\n",
       "Industry_Video Games                                -37.0914     16.263     -2.281      0.023     -69.031      -5.152\n",
       "Industry_Wholesale                                   -2.3038     13.112     -0.176      0.861     -28.056      23.448\n",
       "Sector_-1                                             5.9119      7.954      0.743      0.458      -9.710      21.534\n",
       "Sector_Accounting & Legal                             1.6615     13.517      0.123      0.902     -24.886      28.209\n",
       "Sector_Aerospace & Defense                            5.3864      3.144      1.713      0.087      -0.788      11.561\n",
       "Sector_Agriculture & Forestry                        -0.6472     12.862     -0.050      0.960     -25.908      24.613\n",
       "Sector_Arts, Entertainment & Recreation              -7.4595      6.582     -1.133      0.258     -20.386       5.467\n",
       "Sector_Biotech & Pharmaceuticals                      5.7599      2.130      2.704      0.007       1.576       9.944\n",
       "Sector_Business Services                             -3.9096      4.283     -0.913      0.362     -12.322       4.503\n",
       "Sector_Construction, Repair & Maintenance           -15.5486     10.882     -1.429      0.154     -36.920       5.822\n",
       "Sector_Consumer Services                             -4.0225      9.548     -0.421      0.674     -22.774      14.729\n",
       "Sector_Education                                      0.3138      6.979      0.045      0.964     -13.393      14.020\n",
       "Sector_Finance                                       13.5762      4.534      2.994      0.003       4.671      22.481\n",
       "Sector_Government                                     8.2427      5.340      1.544      0.123      -2.244      18.729\n",
       "Sector_Health Care                                    6.1223      2.936      2.085      0.037       0.356      11.888\n",
       "Sector_Information Technology                        10.5315      2.802      3.759      0.000       5.029      16.034\n",
       "Sector_Insurance                                      0.9804      4.008      0.245      0.807      -6.892       8.853\n",
       "Sector_Manufacturing                                 -0.9050      6.995     -0.129      0.897     -14.642      12.832\n",
       "Sector_Media                                         15.0432      9.067      1.659      0.098      -2.763      32.850\n",
       "Sector_Mining & Metals                               -9.7631     10.778     -0.906      0.365     -30.930      11.404\n",
       "Sector_Non-Profit                                    12.8816      9.013      1.429      0.153      -4.821      30.584\n",
       "Sector_Oil, Gas, Energy & Utilities                  -7.1952      7.800     -0.922      0.357     -22.515       8.124\n",
       "Sector_Real Estate                                   -1.9377      4.989     -0.388      0.698     -11.735       7.860\n",
       "Sector_Retail                                         6.5933      7.297      0.904      0.367      -7.738      20.925\n",
       "Sector_Telecommunications                             3.5293      7.850      0.450      0.653     -11.889      18.947\n",
       "Sector_Transportation & Logistics                     4.1734      8.131      0.513      0.608     -11.796      20.143\n",
       "Sector_Travel & Tourism                              -6.0663      5.312     -1.142      0.254     -16.500       4.367\n",
       "Revenue_$1 to $2 billion (USD)                        2.5463      4.807      0.530      0.597      -6.894      11.987\n",
       "Revenue_$1 to $5 million (USD)                       -6.8767     10.976     -0.627      0.531     -28.434      14.681\n",
       "Revenue_$10 to $25 million (USD)                     -5.0222      5.259     -0.955      0.340     -15.350       5.306\n",
       "Revenue_$10+ billion (USD)                           12.1724      6.449      1.888      0.060      -0.493      24.837\n",
       "Revenue_$100 to $500 million (USD)                   -4.4674      4.077     -1.096      0.274     -12.474       3.539\n",
       "Revenue_$2 to $5 billion (USD)                        0.1548      6.315      0.025      0.980     -12.247      12.557\n",
       "Revenue_$25 to $50 million (USD)                     -6.3101      5.398     -1.169      0.243     -16.913       4.292\n",
       "Revenue_$5 to $10 billion (USD)                       8.9731      7.937      1.131      0.259      -6.614      24.560\n",
       "Revenue_$5 to $10 million (USD)                      30.5148      8.363      3.649      0.000      14.090      46.940\n",
       "Revenue_$50 to $100 million (USD)                     4.9813      4.996      0.997      0.319      -4.832      14.794\n",
       "Revenue_$500 million to $1 billion (USD)             -1.9929      5.323     -0.374      0.708     -12.448       8.462\n",
       "Revenue_-1                                           12.6199      8.644      1.460      0.145      -4.357      29.597\n",
       "Revenue_Less than $1 million (USD)                   -2.9612     15.263     -0.194      0.846     -32.938      27.015\n",
       "Revenue_Unknown / Non-Applicable                     -1.0792      3.151     -0.343      0.732      -7.267       5.108\n",
       "job_state_AL                                         -7.7044     10.580     -0.728      0.467     -28.483      13.074\n",
       "job_state_AZ                                        -14.5938      8.730     -1.672      0.095     -31.739       2.552\n",
       "job_state_CA                                         26.7201      3.268      8.175      0.000      20.301      33.139\n",
       "job_state_CO                                          6.8666      8.382      0.819      0.413      -9.596      23.329\n",
       "job_state_CT                                        -26.0143     11.543     -2.254      0.025     -48.685      -3.344\n",
       "job_state_DC                                         13.9166      7.979      1.744      0.082      -1.753      29.587\n",
       "job_state_DE                                          7.2012     14.151      0.509      0.611     -20.590      34.993\n",
       "job_state_FL                                        -16.8990      7.681     -2.200      0.028     -31.984      -1.814\n",
       "job_state_GA                                        -17.5524     10.208     -1.719      0.086     -37.601       2.496\n",
       "job_state_IA                                         -0.3967     12.542     -0.032      0.975     -25.028      24.235\n",
       "job_state_ID                                        -22.5954     18.418     -1.227      0.220     -58.768      13.578\n",
       "job_state_IL                                          9.7674      5.065      1.928      0.054      -0.181      19.716\n",
       "job_state_IN                                        -10.4682      8.894     -1.177      0.240     -27.936       7.000\n",
       "job_state_KS                                        -15.8156      7.924     -1.996      0.046     -31.379      -0.252\n",
       "job_state_KY                                         20.9016     12.454      1.678      0.094      -3.557      45.360\n",
       "job_state_LA                                         -6.8627     13.180     -0.521      0.603     -32.748      19.022\n",
       "job_state_MA                                          3.2845      3.922      0.837      0.403      -4.418      10.987\n",
       "job_state_MD                                          7.1541      5.038      1.420      0.156      -2.741      17.049\n",
       "job_state_MI                                          7.2256     12.397      0.583      0.560     -17.122      31.573\n",
       "job_state_MN                                          6.8256     17.422      0.392      0.695     -27.391      41.042\n",
       "job_state_MO                                         12.6697      9.951      1.273      0.203      -6.875      32.214\n",
       "job_state_NC                                         -4.7106      6.776     -0.695      0.487     -18.018       8.597\n",
       "job_state_NE                                         -5.6025     13.710     -0.409      0.683     -32.529      21.324\n",
       "job_state_NJ                                          2.2764      6.865      0.332      0.740     -11.206      15.759\n",
       "job_state_NM                                        -30.3617     14.655     -2.072      0.039     -59.144      -1.580\n",
       "job_state_NY                                          5.8891      4.067      1.448      0.148      -2.098      13.876\n",
       "job_state_OH                                         -2.4435      8.257     -0.296      0.767     -18.660      13.773\n",
       "job_state_OR                                          5.2696     12.743      0.414      0.679     -19.757      30.296\n",
       "job_state_PA                                         10.9028      7.341      1.485      0.138      -3.514      25.319\n",
       "job_state_RI                                         38.0463     24.781      1.535      0.125     -10.623      86.716\n",
       "job_state_SC                                         32.7256     29.707      1.102      0.271     -25.618      91.069\n",
       "job_state_TN                                         -5.9741      9.381     -0.637      0.524     -24.398      12.450\n",
       "job_state_TX                                          0.5999      5.679      0.106      0.916     -10.553      11.753\n",
       "job_state_UT                                          4.3715     14.943      0.293      0.770     -24.976      33.719\n",
       "job_state_VA                                         -0.5072      5.030     -0.101      0.920     -10.386       9.372\n",
       "job_state_WA                                         12.6973      8.175      1.553      0.121      -3.359      28.754\n",
       "job_state_WI                                         -3.5563     10.128     -0.351      0.726     -23.448      16.336\n",
       "job_simp_analyst                                    -30.0384      3.504     -8.572      0.000     -36.920     -23.156\n",
       "job_simp_data engineer                                2.0687      3.315      0.624      0.533      -4.441       8.579\n",
       "job_simp_data scientist                               8.2732      2.560      3.232      0.001       3.245      13.301\n",
       "job_simp_director                                    66.4567      6.840      9.716      0.000      53.023      79.890\n",
       "job_simp_manager                                    -12.5291      5.674     -2.208      0.028     -23.672      -1.386\n",
       "job_simp_mle                                         21.0135      6.210      3.384      0.001       8.817      33.210\n",
       "job_simp_na                                         -11.9917      3.031     -3.956      0.000     -17.945      -6.038\n",
       "seniority_jr                                         11.4506     13.397      0.855      0.393     -14.860      37.762\n",
       "seniority_na                                          3.1673      5.223      0.606      0.544      -7.091      13.425\n",
       "seniority_senior                                     28.6349      5.425      5.278      0.000      17.980      39.290\n",
       "==============================================================================\n",
       "Omnibus:                       67.317   Durbin-Watson:                   2.059\n",
       "Prob(Omnibus):                  0.000   Jarque-Bera (JB):              275.765\n",
       "Skew:                           0.306   Prob(JB):                     1.31e-60\n",
       "Kurtosis:                       5.923   Cond. No.                     2.22e+19\n",
       "==============================================================================\n",
       "\n",
       "Warnings:\n",
       "[1] Standard Errors assume that the covariance matrix of the errors is correctly specified.\n",
       "[2] The smallest eigenvalue is 2.6e-29. This might indicate that there are\n",
       "strong multicollinearity problems or that the design matrix is singular.\n",
       "\"\"\""
      ]
     },
     "execution_count": 8,
     "metadata": {},
     "output_type": "execute_result"
    }
   ],
   "source": [
    "# multiple linear regression\n",
    "X_sm = X = sm.add_constant(X)\n",
    "model = sm.OLS(y,X_sm)\n",
    "model.fit().summary()"
   ]
  },
  {
   "cell_type": "markdown",
   "metadata": {},
   "source": [
    "Our R-squared of 0.711 is pretty high, meaning our predictor variables account for 71.1% of the variability in salary.  \n",
    "  \n",
    "We will take a significance level of 0.05, so we consider any variable with p-value less than 0.05 to be statistically significant.  \n",
    "We can see that the number of competitors, whether a company pays hourly or not, whether the company requires certain skills (python, tableau), certain types of ownerships and industries, the job location and job title and seniority are important in determining a job's salary."
   ]
  },
  {
   "cell_type": "markdown",
   "metadata": {},
   "source": [
    "## Baseline Models"
   ]
  },
  {
   "cell_type": "markdown",
   "metadata": {},
   "source": [
    "- Multiple Linear Regression:"
   ]
  },
  {
   "cell_type": "code",
   "execution_count": 9,
   "metadata": {},
   "outputs": [
    {
     "data": {
      "text/plain": [
       "-22.22147984455793"
      ]
     },
     "execution_count": 9,
     "metadata": {},
     "output_type": "execute_result"
    }
   ],
   "source": [
    "model_lr = LinearRegression()\n",
    "model_lr.fit(X_train, y_train)\n",
    "\n",
    "np.mean(cross_val_score(model_lr, X_train, y_train, scoring = 'neg_mean_absolute_error', cv = 3))"
   ]
  },
  {
   "cell_type": "markdown",
   "metadata": {},
   "source": [
    "- Lasso Regression:"
   ]
  },
  {
   "cell_type": "code",
   "execution_count": 10,
   "metadata": {},
   "outputs": [
    {
     "data": {
      "text/plain": [
       "-22.508671729570384"
      ]
     },
     "execution_count": 10,
     "metadata": {},
     "output_type": "execute_result"
    }
   ],
   "source": [
    "model_l = Lasso()\n",
    "model_l.fit(X_train, y_train)\n",
    "np.mean(cross_val_score(model_l, X_train, y_train, scoring = 'neg_mean_absolute_error',  cv = 3))"
   ]
  },
  {
   "cell_type": "code",
   "execution_count": 11,
   "metadata": {},
   "outputs": [
    {
     "data": {
      "image/png": "[encoded data removed]",
      "text/plain": [
       "<Figure size 432x288 with 1 Axes>"
      ]
     },
     "metadata": {
      "needs_background": "light"
     },
     "output_type": "display_data"
    },
    {
     "data": {
      "text/plain": [
       "0.11"
      ]
     },
     "execution_count": 11,
     "metadata": {},
     "output_type": "execute_result"
    }
   ],
   "source": [
    "# let's find the best alpha to minimize error\n",
    "alpha = []\n",
    "error = []\n",
    "for i in range(1,100):\n",
    "    alpha.append(i/100)\n",
    "    lasso = Lasso(alpha=(i/100))\n",
    "    error.append(np.mean(cross_val_score(lasso, X_train, y_train, scoring = 'neg_mean_absolute_error', cv = 3)))\n",
    "plt.plot(alpha, error)\n",
    "plt.show()\n",
    "\n",
    "alpha[np.argmax(error)]  # best alpha to minimize error"
   ]
  },
  {
   "cell_type": "code",
   "execution_count": 12,
   "metadata": {},
   "outputs": [
    {
     "data": {
      "text/plain": [
       "-20.472964521515582"
      ]
     },
     "execution_count": 12,
     "metadata": {},
     "output_type": "execute_result"
    }
   ],
   "source": [
    "# lasso with optimized alpha\n",
    "model_l = Lasso(alpha = alpha[np.argmax(error)])\n",
    "model_l.fit(X_train, y_train)\n",
    "np.mean(cross_val_score(model_l, X_train, y_train, scoring = 'neg_mean_absolute_error', cv = 3))"
   ]
  },
  {
   "cell_type": "markdown",
   "metadata": {},
   "source": [
    "- Elastic Net Regression:"
   ]
  },
  {
   "cell_type": "code",
   "execution_count": 13,
   "metadata": {},
   "outputs": [
    {
     "name": "stderr",
     "output_type": "stream",
     "text": [
      "C:\\Users\\jamie\\Anaconda3\\lib\\site-packages\\sklearn\\model_selection\\_validation.py:516: UserWarning: With alpha=0, this algorithm does not converge well. You are advised to use the LinearRegression estimator\n",
      "  estimator.fit(X_train, y_train, **fit_params)\n",
      "C:\\Users\\jamie\\Anaconda3\\lib\\site-packages\\sklearn\\linear_model\\coordinate_descent.py:475: UserWarning: Coordinate descent with no regularization may lead to unexpected results and is discouraged.\n",
      "  positive)\n",
      "C:\\Users\\jamie\\Anaconda3\\lib\\site-packages\\sklearn\\linear_model\\coordinate_descent.py:475: ConvergenceWarning: Objective did not converge. You might want to increase the number of iterations. Duality gap: 67006.86613951852, tolerance: 56.53323898734177\n",
      "  positive)\n",
      "C:\\Users\\jamie\\Anaconda3\\lib\\site-packages\\sklearn\\model_selection\\_validation.py:516: UserWarning: With alpha=0, this algorithm does not converge well. You are advised to use the LinearRegression estimator\n",
      "  estimator.fit(X_train, y_train, **fit_params)\n",
      "C:\\Users\\jamie\\Anaconda3\\lib\\site-packages\\sklearn\\linear_model\\coordinate_descent.py:475: UserWarning: Coordinate descent with no regularization may lead to unexpected results and is discouraged.\n",
      "  positive)\n",
      "C:\\Users\\jamie\\Anaconda3\\lib\\site-packages\\sklearn\\linear_model\\coordinate_descent.py:475: ConvergenceWarning: Objective did not converge. You might want to increase the number of iterations. Duality gap: 75296.65895680911, tolerance: 60.91417493670886\n",
      "  positive)\n",
      "C:\\Users\\jamie\\Anaconda3\\lib\\site-packages\\sklearn\\model_selection\\_validation.py:516: UserWarning: With alpha=0, this algorithm does not converge well. You are advised to use the LinearRegression estimator\n",
      "  estimator.fit(X_train, y_train, **fit_params)\n",
      "C:\\Users\\jamie\\Anaconda3\\lib\\site-packages\\sklearn\\linear_model\\coordinate_descent.py:475: UserWarning: Coordinate descent with no regularization may lead to unexpected results and is discouraged.\n",
      "  positive)\n",
      "C:\\Users\\jamie\\Anaconda3\\lib\\site-packages\\sklearn\\linear_model\\coordinate_descent.py:475: ConvergenceWarning: Objective did not converge. You might want to increase the number of iterations. Duality gap: 64961.53347618588, tolerance: 58.453595959595965\n",
      "  positive)\n"
     ]
    },
    {
     "data": {
      "image/png": "[encoded data removed]",
      "text/plain": [
       "<Figure size 432x288 with 1 Axes>"
      ]
     },
     "metadata": {
      "needs_background": "light"
     },
     "output_type": "display_data"
    },
    {
     "name": "stdout",
     "output_type": "stream",
     "text": [
      "0.01\n"
     ]
    },
    {
     "data": {
      "text/plain": [
       "-20.239497915211242"
      ]
     },
     "execution_count": 13,
     "metadata": {},
     "output_type": "execute_result"
    }
   ],
   "source": [
    "# let's find the best alpha to minimize error\n",
    "alpha = []\n",
    "error = []\n",
    "for i in range(0,100):\n",
    "    alpha.append(i/100)\n",
    "    en = ElasticNet(alpha=(i/100))\n",
    "    error.append(np.mean(cross_val_score(en, X_train, y_train, scoring = 'neg_mean_absolute_error', cv = 3)))\n",
    "plt.plot(alpha, error)\n",
    "plt.show()\n",
    "print(alpha[np.argmax(error)])\n",
    "\n",
    "# elastic net with optimized alpha\n",
    "model_en = ElasticNet(alpha = alpha[np.argmax(error)])\n",
    "model_en.fit(X_train, y_train)\n",
    "np.mean(cross_val_score(model_en, X_train, y_train, scoring = 'neg_mean_absolute_error', cv = 3))"
   ]
  },
  {
   "cell_type": "markdown",
   "metadata": {},
   "source": [
    "- Kernel Ridge Regression:"
   ]
  },
  {
   "cell_type": "code",
   "execution_count": 14,
   "metadata": {},
   "outputs": [
    {
     "data": {
      "image/png": "[encoded data removed]",
      "text/plain": [
       "<Figure size 432x288 with 1 Axes>"
      ]
     },
     "metadata": {
      "needs_background": "light"
     },
     "output_type": "display_data"
    },
    {
     "name": "stdout",
     "output_type": "stream",
     "text": [
      "1.79\n"
     ]
    },
    {
     "data": {
      "text/plain": [
       "-20.484325516811253"
      ]
     },
     "execution_count": 14,
     "metadata": {},
     "output_type": "execute_result"
    }
   ],
   "source": [
    "# find the best alpha to minimize error\n",
    "alpha = []\n",
    "error = []\n",
    "for i in range(1,200):\n",
    "    alpha.append(i/100)\n",
    "    kr = KernelRidge(alpha=(i/100))\n",
    "    error.append(np.mean(cross_val_score(kr, X_train, y_train, scoring = 'neg_mean_absolute_error', cv = 3)))\n",
    "plt.plot(alpha, error)\n",
    "plt.show()\n",
    "print(alpha[np.argmax(error)])\n",
    "\n",
    "# kernel ridge with optimized alpha\n",
    "model_kr = KernelRidge(alpha = alpha[np.argmax(error)])\n",
    "model_kr.fit(X_train, y_train)\n",
    "np.mean(cross_val_score(model_kr, X_train, y_train, scoring = 'neg_mean_absolute_error', cv = 3))"
   ]
  },
  {
   "cell_type": "markdown",
   "metadata": {},
   "source": [
    "- Support Vector Regression:"
   ]
  },
  {
   "cell_type": "code",
   "execution_count": 15,
   "metadata": {},
   "outputs": [
    {
     "name": "stderr",
     "output_type": "stream",
     "text": [
      "C:\\Users\\jamie\\Anaconda3\\lib\\site-packages\\sklearn\\svm\\base.py:193: FutureWarning: The default value of gamma will change from 'auto' to 'scale' in version 0.22 to account better for unscaled features. Set gamma explicitly to 'auto' or 'scale' to avoid this warning.\n",
      "  \"avoid this warning.\", FutureWarning)\n",
      "C:\\Users\\jamie\\Anaconda3\\lib\\site-packages\\sklearn\\svm\\base.py:193: FutureWarning: The default value of gamma will change from 'auto' to 'scale' in version 0.22 to account better for unscaled features. Set gamma explicitly to 'auto' or 'scale' to avoid this warning.\n",
      "  \"avoid this warning.\", FutureWarning)\n",
      "C:\\Users\\jamie\\Anaconda3\\lib\\site-packages\\sklearn\\svm\\base.py:193: FutureWarning: The default value of gamma will change from 'auto' to 'scale' in version 0.22 to account better for unscaled features. Set gamma explicitly to 'auto' or 'scale' to avoid this warning.\n",
      "  \"avoid this warning.\", FutureWarning)\n",
      "C:\\Users\\jamie\\Anaconda3\\lib\\site-packages\\sklearn\\svm\\base.py:193: FutureWarning: The default value of gamma will change from 'auto' to 'scale' in version 0.22 to account better for unscaled features. Set gamma explicitly to 'auto' or 'scale' to avoid this warning.\n",
      "  \"avoid this warning.\", FutureWarning)\n"
     ]
    },
    {
     "data": {
      "text/plain": [
       "-30.07541841537149"
      ]
     },
     "execution_count": 15,
     "metadata": {},
     "output_type": "execute_result"
    }
   ],
   "source": [
    "model_svr = SVR()\n",
    "model_svr.fit(X_train, y_train)\n",
    "np.mean(cross_val_score(model_svr, X_train, y_train, scoring = 'neg_mean_absolute_error', cv = 3))"
   ]
  },
  {
   "cell_type": "markdown",
   "metadata": {},
   "source": [
    "- Gradient Boosting Regression:"
   ]
  },
  {
   "cell_type": "code",
   "execution_count": 16,
   "metadata": {},
   "outputs": [
    {
     "data": {
      "text/plain": [
       "-13.741438733937715"
      ]
     },
     "execution_count": 16,
     "metadata": {},
     "output_type": "execute_result"
    }
   ],
   "source": [
    "model_gb = GradientBoostingRegressor(learning_rate=0.05, n_estimators=2000, \n",
    "                                     loss='huber', random_state=88)\n",
    "model_gb.fit(X_train, y_train)\n",
    "np.mean(cross_val_score(model_gb, X_train, y_train, scoring = 'neg_mean_absolute_error', cv = 3))"
   ]
  },
  {
   "cell_type": "markdown",
   "metadata": {},
   "source": [
    "- XGBoost Regression:"
   ]
  },
  {
   "cell_type": "code",
   "execution_count": 17,
   "metadata": {},
   "outputs": [
    {
     "data": {
      "text/plain": [
       "-13.081350470048067"
      ]
     },
     "execution_count": 17,
     "metadata": {},
     "output_type": "execute_result"
    }
   ],
   "source": [
    "model_xgb = xgb.XGBRegressor(learning_rate=0.05, n_estimators=2000, random_state=88)\n",
    "model_xgb.fit(X_train, y_train)\n",
    "np.mean(cross_val_score(model_xgb, X_train, y_train, scoring = 'neg_mean_absolute_error', cv = 3))"
   ]
  },
  {
   "cell_type": "markdown",
   "metadata": {},
   "source": [
    "- Random Forest:"
   ]
  },
  {
   "cell_type": "code",
   "execution_count": 18,
   "metadata": {},
   "outputs": [
    {
     "name": "stderr",
     "output_type": "stream",
     "text": [
      "C:\\Users\\jamie\\Anaconda3\\lib\\site-packages\\sklearn\\ensemble\\forest.py:245: FutureWarning: The default value of n_estimators will change from 10 in version 0.20 to 100 in 0.22.\n",
      "  \"10 in version 0.20 to 100 in 0.22.\", FutureWarning)\n"
     ]
    },
    {
     "data": {
      "text/plain": [
       "-16.166001811687092"
      ]
     },
     "execution_count": 18,
     "metadata": {},
     "output_type": "execute_result"
    }
   ],
   "source": [
    "model_rf = RandomForestRegressor(random_state=88)\n",
    "model_rf.fit(X_train, y_train)\n",
    "np.mean(cross_val_score(model_rf, X_train, y_train, scoring = 'neg_mean_absolute_error', cv = 3))"
   ]
  },
  {
   "cell_type": "code",
   "execution_count": 26,
   "metadata": {},
   "outputs": [
    {
     "name": "stderr",
     "output_type": "stream",
     "text": [
      "C:\\Users\\jamie\\Anaconda3\\lib\\site-packages\\sklearn\\model_selection\\_search.py:814: DeprecationWarning: The default of the `iid` parameter will change from True to False in version 0.22 and will be removed in 0.24. This will change numeric results when test-set sizes are unequal.\n",
      "  DeprecationWarning)\n"
     ]
    },
    {
     "name": "stdout",
     "output_type": "stream",
     "text": [
      "-15.015278246205735\n",
      "RandomForestRegressor(bootstrap=False, criterion='mse', max_depth=None,\n",
      "                      max_features='auto', max_leaf_nodes=None,\n",
      "                      min_impurity_decrease=0.0, min_impurity_split=None,\n",
      "                      min_samples_leaf=1, min_samples_split=2,\n",
      "                      min_weight_fraction_leaf=0.0, n_estimators=100,\n",
      "                      n_jobs=None, oob_score=False, random_state=88, verbose=0,\n",
      "                      warm_start=False)\n"
     ]
    }
   ],
   "source": [
    "# use RandomizedSearchCV to get an initial finetuned random forest model\n",
    "param_grid = {'n_estimators': [10,50,100,150,200,250,400,350,400,450,500], \n",
    "              'bootstrap': [True,False],\n",
    "              'criterion': ['mse','mae'],\n",
    "              'max_depth': [3,5,10,None],\n",
    "              'max_features': ['auto','sqrt','log2'],\n",
    "              'min_samples_leaf': [1,2,5],\n",
    "              'min_samples_split': [2,5,10]}\n",
    "\n",
    "model_rf_rs = RandomizedSearchCV(model_rf, param_distributions = param_grid, scoring='neg_mean_absolute_error', cv=3, random_state=88)\n",
    "model_rf_rs.fit(X_train,y_train)\n",
    "\n",
    "print(model_rf_rs.best_score_)\n",
    "print(model_rf_rs.best_estimator_)"
   ]
  },
  {
   "cell_type": "code",
   "execution_count": 30,
   "metadata": {},
   "outputs": [
    {
     "name": "stderr",
     "output_type": "stream",
     "text": [
      "C:\\Users\\jamie\\Anaconda3\\lib\\site-packages\\sklearn\\model_selection\\_search.py:814: DeprecationWarning: The default of the `iid` parameter will change from True to False in version 0.22 and will be removed in 0.24. This will change numeric results when test-set sizes are unequal.\n",
      "  DeprecationWarning)\n"
     ]
    },
    {
     "name": "stdout",
     "output_type": "stream",
     "text": [
      "-15.005354131534569\n",
      "RandomForestRegressor(bootstrap=False, criterion='mse', max_depth=None,\n",
      "                      max_features='auto', max_leaf_nodes=None,\n",
      "                      min_impurity_decrease=0.0, min_impurity_split=None,\n",
      "                      min_samples_leaf=1, min_samples_split=2,\n",
      "                      min_weight_fraction_leaf=0.0, n_estimators=60,\n",
      "                      n_jobs=None, oob_score=False, random_state=88, verbose=0,\n",
      "                      warm_start=False)\n"
     ]
    }
   ],
   "source": [
    "# use GridSearchCV to finetune the parameters we obtained from the randomized search\n",
    "param_grid = {'n_estimators': range(50,150,10), \n",
    "              'bootstrap': [False],\n",
    "              'criterion': ['mse'],\n",
    "              'max_depth': [1,2,3,None],\n",
    "              'max_features': ['auto'],\n",
    "              'min_samples_leaf': [1,2,5],\n",
    "              'min_samples_split': [2,3,5]}\n",
    "\n",
    "model_rf_gs = GridSearchCV(model_rf, param_grid, scoring='neg_mean_absolute_error', cv=3)\n",
    "model_rf_gs.fit(X_train,y_train)\n",
    "\n",
    "print(model_rf_gs.best_score_)\n",
    "print(model_rf_gs.best_estimator_)"
   ]
  },
  {
   "cell_type": "markdown",
   "metadata": {},
   "source": [
    "#### Evaluate each model's score:"
   ]
  },
  {
   "cell_type": "code",
   "execution_count": 31,
   "metadata": {},
   "outputs": [
    {
     "name": "stdout",
     "output_type": "stream",
     "text": [
      "MAE for linear regression: 18.7478\n",
      "MAE for lasso: 18.6590\n",
      "MAE for elastic net: 18.0456\n",
      "MAE for kernel ridge: 18.1600\n",
      "MAE for support vector regression: 28.9501\n",
      "MAE for gradient boosting: 11.7536\n",
      "MAE for extreme gradient boosting: 10.1892\n",
      "MAE for random forest: 12.7030\n"
     ]
    }
   ],
   "source": [
    "# get predictions of each model\n",
    "tpred_lr = model_lr.predict(X_test)\n",
    "tpred_l = model_l.predict(X_test)\n",
    "tpred_en = model_en.predict(X_test)\n",
    "tpred_kr = model_kr.predict(X_test)\n",
    "tpred_svr = model_svr.predict(X_test)\n",
    "tpred_gb = model_gb.predict(X_test)\n",
    "tpred_xgb = model_xgb.predict(X_test)\n",
    "tpred_rf = model_rf_gs.predict(X_test)\n",
    "\n",
    "# get errors for each model\n",
    "error_lr = mean_absolute_error(y_test,tpred_lr)\n",
    "error_l = mean_absolute_error(y_test,tpred_l)\n",
    "error_en = mean_absolute_error(y_test,tpred_en)\n",
    "error_kr = mean_absolute_error(y_test,tpred_kr)\n",
    "error_svr = mean_absolute_error(y_test,tpred_svr)\n",
    "error_gb = mean_absolute_error(y_test,tpred_gb)\n",
    "error_xgb = mean_absolute_error(y_test,tpred_xgb)\n",
    "error_rf = mean_absolute_error(y_test,tpred_rf) \n",
    "\n",
    "# print out the errors\n",
    "print('MAE for linear regression:', '{0:.4f}'.format(error_lr))\n",
    "print('MAE for lasso:', '{0:.4f}'.format(error_l))\n",
    "print('MAE for elastic net:', '{0:.4f}'.format(error_en))\n",
    "print('MAE for kernel ridge:', '{0:.4f}'.format(error_kr))\n",
    "print('MAE for support vector regression:', '{0:.4f}'.format(error_svr))\n",
    "print('MAE for gradient boosting:', '{0:.4f}'.format(error_gb))\n",
    "print('MAE for extreme gradient boosting:', '{0:.4f}'.format(error_xgb))\n",
    "print('MAE for random forest:', '{0:.4f}'.format(error_rf))"
   ]
  },
  {
   "cell_type": "markdown",
   "metadata": {},
   "source": [
    "From the list of mean absolute errors, we can notice that the best performing model is the XGB, with an MAE of $10.2K.  "
   ]
  },
  {
   "cell_type": "markdown",
   "metadata": {},
   "source": [
    "## Mix Models  \n",
    "We try to use a mixture of models to see if we can get a better estimator of salary, and get a model that is more robust to overfitting.  \n",
    "  \n",
    "Notice that SVR has a very high error, so I will not include that in the mixed model.  "
   ]
  },
  {
   "cell_type": "code",
   "execution_count": 32,
   "metadata": {},
   "outputs": [
    {
     "name": "stdout",
     "output_type": "stream",
     "text": [
      "MAE for mixed model: 13.0736\n"
     ]
    }
   ],
   "source": [
    "# Get predictions from the mixed model\n",
    "def tpred_mixed(X):\n",
    "    return ((0.1 * model_lr.predict(X)) + \n",
    "            (0.1 * model_l.predict(X)) + \n",
    "            (0.1 * model_en.predict(X)) + \n",
    "            (0.1 * model_kr.predict(X)) + \n",
    "            (0.2 * model_gb.predict(X)) + \n",
    "            (0.2 * model_xgb.predict(X)) + \n",
    "            (0.2 * model_rf_gs.predict(X)))\n",
    "\n",
    "error_mixed = mean_absolute_error(y_test, tpred_mixed(X_test))\n",
    "print('MAE for mixed model:', '{0:.4f}'.format(error_mixed))"
   ]
  },
  {
   "cell_type": "markdown",
   "metadata": {},
   "source": [
    "Let's try a simpler mix with a smaller number of models.    \n",
    "Out of lasso, elastic net and kernel ridge, elastic net has the lowest error, so I will not include the other two in the mixed model.  \n",
    "Out of gradient boosting and XGB, XGB has the lower error.  "
   ]
  },
  {
   "cell_type": "code",
   "execution_count": 35,
   "metadata": {},
   "outputs": [
    {
     "name": "stdout",
     "output_type": "stream",
     "text": [
      "MAE for mixed model: 12.0255\n"
     ]
    }
   ],
   "source": [
    "def tpred_mixed(X):\n",
    "    return ((0.1 * model_lr.predict(X)) + \n",
    "            (0.2 * model_en.predict(X)) + \n",
    "            (0.4 * model_xgb.predict(X)) + \n",
    "            (0.3 * model_rf_gs.predict(X)))\n",
    "\n",
    "error_mixed = mean_absolute_error(y_test, tpred_mixed(X_test))\n",
    "print('MAE for mixed model:', '{0:.4f}'.format(error_mixed))"
   ]
  },
  {
   "cell_type": "markdown",
   "metadata": {},
   "source": [
    "So, in conclusion, the model that produced the lowest error for our test data was extreme gradient boosting with an average error of `$`10.2K.  \n",
    "However, in the real world, I would use the simpler mixed model (mix of linear regression, elastic net, XGB, random forest) to predict salaries for jobs outside of our dataset. This mixed model has an average error of `$`12.0K and is more robust to overfitting than the XGB model.   "
   ]
  }
 ],
 "metadata": {
  "kernelspec": {
   "display_name": "Python 3",
   "language": "python",
   "name": "python3"
  },
  "language_info": {
   "codemirror_mode": {
    "name": "ipython",
    "version": 3
   },
   "file_extension": ".py",
   "mimetype": "text/x-python",
   "name": "python",
   "nbconvert_exporter": "python",
   "pygments_lexer": "ipython3",
   "version": "3.7.4"
  }
 },
 "nbformat": 4,
 "nbformat_minor": 2
}
